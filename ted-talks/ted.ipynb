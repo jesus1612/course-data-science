{
 "cells": [
  {
   "cell_type": "code",
   "execution_count": 1,
   "metadata": {},
   "outputs": [],
   "source": [
    "import pandas as pd\n",
    "import matplotlib.pyplot as plt"
   ]
  },
  {
   "cell_type": "markdown",
   "metadata": {},
   "source": [
    "Leer un archivo csv"
   ]
  },
  {
   "cell_type": "code",
   "execution_count": 2,
   "metadata": {},
   "outputs": [
    {
     "data": {
      "text/html": [
       "<div>\n",
       "<style scoped>\n",
       "    .dataframe tbody tr th:only-of-type {\n",
       "        vertical-align: middle;\n",
       "    }\n",
       "\n",
       "    .dataframe tbody tr th {\n",
       "        vertical-align: top;\n",
       "    }\n",
       "\n",
       "    .dataframe thead th {\n",
       "        text-align: right;\n",
       "    }\n",
       "</style>\n",
       "<table border=\"1\" class=\"dataframe\">\n",
       "  <thead>\n",
       "    <tr style=\"text-align: right;\">\n",
       "      <th></th>\n",
       "      <th>title</th>\n",
       "      <th>author</th>\n",
       "      <th>date</th>\n",
       "      <th>views</th>\n",
       "      <th>likes</th>\n",
       "      <th>link</th>\n",
       "    </tr>\n",
       "  </thead>\n",
       "  <tbody>\n",
       "    <tr>\n",
       "      <th>0</th>\n",
       "      <td>Climate action needs new frontline leadership</td>\n",
       "      <td>Ozawa Bineshi Albert</td>\n",
       "      <td>December 2021</td>\n",
       "      <td>404000</td>\n",
       "      <td>12000</td>\n",
       "      <td>https://ted.com/talks/ozawa_bineshi_albert_cli...</td>\n",
       "    </tr>\n",
       "    <tr>\n",
       "      <th>1</th>\n",
       "      <td>The dark history of the overthrow of Hawaii</td>\n",
       "      <td>Sydney Iaukea</td>\n",
       "      <td>February 2022</td>\n",
       "      <td>214000</td>\n",
       "      <td>6400</td>\n",
       "      <td>https://ted.com/talks/sydney_iaukea_the_dark_h...</td>\n",
       "    </tr>\n",
       "    <tr>\n",
       "      <th>2</th>\n",
       "      <td>How play can spark new ideas for your business</td>\n",
       "      <td>Martin Reeves</td>\n",
       "      <td>September 2021</td>\n",
       "      <td>412000</td>\n",
       "      <td>12000</td>\n",
       "      <td>https://ted.com/talks/martin_reeves_how_play_c...</td>\n",
       "    </tr>\n",
       "    <tr>\n",
       "      <th>3</th>\n",
       "      <td>Why is China appointing judges to combat clima...</td>\n",
       "      <td>James K. Thornton</td>\n",
       "      <td>October 2021</td>\n",
       "      <td>427000</td>\n",
       "      <td>12000</td>\n",
       "      <td>https://ted.com/talks/james_k_thornton_why_is_...</td>\n",
       "    </tr>\n",
       "    <tr>\n",
       "      <th>4</th>\n",
       "      <td>Cement's carbon problem — and 2 ways to fix it</td>\n",
       "      <td>Mahendra Singhi</td>\n",
       "      <td>October 2021</td>\n",
       "      <td>2400</td>\n",
       "      <td>72</td>\n",
       "      <td>https://ted.com/talks/mahendra_singhi_cement_s...</td>\n",
       "    </tr>\n",
       "  </tbody>\n",
       "</table>\n",
       "</div>"
      ],
      "text/plain": [
       "                                               title                author  \\\n",
       "0      Climate action needs new frontline leadership  Ozawa Bineshi Albert   \n",
       "1        The dark history of the overthrow of Hawaii         Sydney Iaukea   \n",
       "2     How play can spark new ideas for your business         Martin Reeves   \n",
       "3  Why is China appointing judges to combat clima...     James K. Thornton   \n",
       "4     Cement's carbon problem — and 2 ways to fix it       Mahendra Singhi   \n",
       "\n",
       "             date   views  likes  \\\n",
       "0   December 2021  404000  12000   \n",
       "1   February 2022  214000   6400   \n",
       "2  September 2021  412000  12000   \n",
       "3    October 2021  427000  12000   \n",
       "4    October 2021    2400     72   \n",
       "\n",
       "                                                link  \n",
       "0  https://ted.com/talks/ozawa_bineshi_albert_cli...  \n",
       "1  https://ted.com/talks/sydney_iaukea_the_dark_h...  \n",
       "2  https://ted.com/talks/martin_reeves_how_play_c...  \n",
       "3  https://ted.com/talks/james_k_thornton_why_is_...  \n",
       "4  https://ted.com/talks/mahendra_singhi_cement_s...  "
      ]
     },
     "execution_count": 2,
     "metadata": {},
     "output_type": "execute_result"
    }
   ],
   "source": [
    "ted_dataset = pd.read_csv(\"./ted_talks_data.csv\")\n",
    "\n",
    "ted_dataset.head()"
   ]
  },
  {
   "cell_type": "markdown",
   "metadata": {},
   "source": [
    "Obtenemos unicamente las charlas de x autor"
   ]
  },
  {
   "cell_type": "code",
   "execution_count": 127,
   "metadata": {},
   "outputs": [
    {
     "data": {
      "text/html": [
       "<div>\n",
       "<style scoped>\n",
       "    .dataframe tbody tr th:only-of-type {\n",
       "        vertical-align: middle;\n",
       "    }\n",
       "\n",
       "    .dataframe tbody tr th {\n",
       "        vertical-align: top;\n",
       "    }\n",
       "\n",
       "    .dataframe thead th {\n",
       "        text-align: right;\n",
       "    }\n",
       "</style>\n",
       "<table border=\"1\" class=\"dataframe\">\n",
       "  <thead>\n",
       "    <tr style=\"text-align: right;\">\n",
       "      <th></th>\n",
       "      <th>title</th>\n",
       "      <th>author</th>\n",
       "      <th>date</th>\n",
       "      <th>views</th>\n",
       "      <th>likes</th>\n",
       "      <th>link</th>\n",
       "    </tr>\n",
       "  </thead>\n",
       "  <tbody>\n",
       "    <tr>\n",
       "      <th>1800</th>\n",
       "      <td>Why I have coffee with people who send me hate...</td>\n",
       "      <td>Özlem Cekic</td>\n",
       "      <td>September 2018</td>\n",
       "      <td>2000000</td>\n",
       "      <td>60000</td>\n",
       "      <td>https://ted.com/talks/ozlem_cekic_why_i_have_c...</td>\n",
       "    </tr>\n",
       "  </tbody>\n",
       "</table>\n",
       "</div>"
      ],
      "text/plain": [
       "                                                  title       author  \\\n",
       "1800  Why I have coffee with people who send me hate...  Özlem Cekic   \n",
       "\n",
       "                date    views  likes  \\\n",
       "1800  September 2018  2000000  60000   \n",
       "\n",
       "                                                   link  \n",
       "1800  https://ted.com/talks/ozlem_cekic_why_i_have_c...  "
      ]
     },
     "execution_count": 127,
     "metadata": {},
     "output_type": "execute_result"
    }
   ],
   "source": [
    "# 5. Finding TED talks of your favorite Author\n",
    "ozawa_dataset = ted_dataset[ted_dataset[\"author\"] == \"Özlem Cekic\"]\n",
    "ozawa_dataset"
   ]
  },
  {
   "cell_type": "markdown",
   "metadata": {},
   "source": [
    "Importamos *re* para leer expresiones regulares"
   ]
  },
  {
   "cell_type": "code",
   "execution_count": 31,
   "metadata": {},
   "outputs": [],
   "source": [
    "import re"
   ]
  },
  {
   "cell_type": "code",
   "execution_count": 32,
   "metadata": {},
   "outputs": [
    {
     "data": {
      "text/plain": [
       "<re.Match object; span=(0, 6), match='Martin'>"
      ]
     },
     "execution_count": 32,
     "metadata": {},
     "output_type": "execute_result"
    }
   ],
   "source": [
    "re.search(\"Martin\", \"Martin Reeves\")"
   ]
  },
  {
   "cell_type": "markdown",
   "metadata": {},
   "source": [
    "TODO: Investigar como usar expresiones regulares con pandas"
   ]
  },
  {
   "cell_type": "markdown",
   "metadata": {},
   "source": [
    "```python # Get countries starting with letter P\n",
    "S=pd.Series(['Finland','Colombia','Florida','Japan','Puerto Rico','Russia','france'])\n",
    "S[S.str.match(r'(^P.*)')==True]"
   ]
  },
  {
   "cell_type": "markdown",
   "metadata": {},
   "source": [
    "Usar expresiones regulares te ayuda a generar un primer filtro de tus datos TIP PRO"
   ]
  },
  {
   "cell_type": "markdown",
   "metadata": {},
   "source": [
    "## Tarea"
   ]
  },
  {
   "cell_type": "markdown",
   "metadata": {},
   "source": [
    "1. Finding the most popular TED talks\n",
    "2. Finding the most popular TED talks Speaker (in terms of number of talks)\n",
    "3. Finding TED talks of your favorite Author\n",
    "4. Finding TED talks with the best view to like ration\n",
    "5. Finding TED talks based on tags(like climate)\n",
    "6. Finding the most popular TED talks Speaker (in terms of number of views)"
   ]
  },
  {
   "cell_type": "markdown",
   "metadata": {},
   "source": []
  },
  {
   "cell_type": "markdown",
   "metadata": {},
   "source": [
    "\n",
    "1. Finding the mos popular TED talks"
   ]
  },
  {
   "cell_type": "code",
   "execution_count": 53,
   "metadata": {},
   "outputs": [
    {
     "data": {
      "text/plain": [
       "title                           Do schools kill creativity?\n",
       "author                                     Sir Ken Robinson\n",
       "date                                          February 2006\n",
       "views                                              72000000\n",
       "likes                                               2100000\n",
       "link      https://ted.com/talks/sir_ken_robinson_do_scho...\n",
       "Name: 5436, dtype: object"
      ]
     },
     "execution_count": 53,
     "metadata": {},
     "output_type": "execute_result"
    }
   ],
   "source": [
    "# Obtenemos el número de vistas de cada ted talks\n",
    "ted_dataset[\"views\"]\n",
    "\n",
    "# Buscamos el indice con máximo número de views en una ted\n",
    "max_index = ted_dataset[\"views\"].idxmax()\n",
    "\n",
    "# Obtenemos esa fila\n",
    "ted_dataset.iloc[max_index]"
   ]
  },
  {
   "cell_type": "markdown",
   "metadata": {},
   "source": [
    "2. Finding the most popular TED talks Speaker (in terms of number of talks)"
   ]
  },
  {
   "cell_type": "code",
   "execution_count": 66,
   "metadata": {},
   "outputs": [
    {
     "data": {
      "text/plain": [
       "'Alex Gendler'"
      ]
     },
     "execution_count": 66,
     "metadata": {},
     "output_type": "execute_result"
    }
   ],
   "source": [
    "# Obtenemos el número de veces que aparece cada autor en una ted talks\n",
    "ted_dataset[\"author\"].value_counts()\n",
    "\n",
    "#obtenemos el número máximo con su indice\n",
    "ted_speaker = ted_dataset[\"author\"].value_counts().reset_index()\n",
    "\n",
    "# Guardamos el talks speaker con más número de talks\n",
    "ted_speaker[\"index\"][0]"
   ]
  },
  {
   "cell_type": "markdown",
   "metadata": {},
   "source": [
    "3. Finding Ted Talks of your favorite author"
   ]
  },
  {
   "cell_type": "code",
   "execution_count": 129,
   "metadata": {},
   "outputs": [
    {
     "data": {
      "text/html": [
       "<div>\n",
       "<style scoped>\n",
       "    .dataframe tbody tr th:only-of-type {\n",
       "        vertical-align: middle;\n",
       "    }\n",
       "\n",
       "    .dataframe tbody tr th {\n",
       "        vertical-align: top;\n",
       "    }\n",
       "\n",
       "    .dataframe thead th {\n",
       "        text-align: right;\n",
       "    }\n",
       "</style>\n",
       "<table border=\"1\" class=\"dataframe\">\n",
       "  <thead>\n",
       "    <tr style=\"text-align: right;\">\n",
       "      <th></th>\n",
       "      <th>title</th>\n",
       "      <th>author</th>\n",
       "      <th>date</th>\n",
       "      <th>views</th>\n",
       "      <th>likes</th>\n",
       "      <th>link</th>\n",
       "    </tr>\n",
       "  </thead>\n",
       "  <tbody>\n",
       "    <tr>\n",
       "      <th>4</th>\n",
       "      <td>Cement's carbon problem — and 2 ways to fix it</td>\n",
       "      <td>Mahendra Singhi</td>\n",
       "      <td>October 2021</td>\n",
       "      <td>2400</td>\n",
       "      <td>72</td>\n",
       "      <td>https://ted.com/talks/mahendra_singhi_cement_s...</td>\n",
       "    </tr>\n",
       "  </tbody>\n",
       "</table>\n",
       "</div>"
      ],
      "text/plain": [
       "                                            title           author  \\\n",
       "4  Cement's carbon problem — and 2 ways to fix it  Mahendra Singhi   \n",
       "\n",
       "           date  views  likes  \\\n",
       "4  October 2021   2400     72   \n",
       "\n",
       "                                                link  \n",
       "4  https://ted.com/talks/mahendra_singhi_cement_s...  "
      ]
     },
     "execution_count": 129,
     "metadata": {},
     "output_type": "execute_result"
    }
   ],
   "source": [
    "ozawa_dataset = ted_dataset[ted_dataset[\"author\"] == \"Mahendra Singhi\"]\n",
    "ozawa_dataset"
   ]
  },
  {
   "cell_type": "markdown",
   "metadata": {},
   "source": [
    "4. Finding TED talks with the best view to like ration\n"
   ]
  },
  {
   "cell_type": "code",
   "execution_count": 98,
   "metadata": {},
   "outputs": [
    {
     "data": {
      "text/plain": [
       "title                           Do schools kill creativity?\n",
       "author                                     Sir Ken Robinson\n",
       "date                                          February 2006\n",
       "views                                              72000000\n",
       "likes                                               2100000\n",
       "link      https://ted.com/talks/sir_ken_robinson_do_scho...\n",
       "Name: 5436, dtype: object"
      ]
     },
     "execution_count": 98,
     "metadata": {},
     "output_type": "execute_result"
    }
   ],
   "source": [
    "# Obtenemos un subDataSet con las views y los likes\n",
    "ted_subset = ted_dataset.filter([\"views\", \"likes\"])\n",
    "\n",
    "# Obtenemos los promedios de views y likes\n",
    "ted_views_likes_mean = ted_subset.mean(axis=1)\n",
    "\n",
    "#Obtenemos el indice del mayor promedio\n",
    "ted_views_likes_mean.max() #Obtuvimos el elemento máximo\n",
    "idx_trend_ted = ted_views_likes_mean.idxmax() # Obtumos el indice del elemento máximo\n",
    "\n",
    "# Obtenemos la ted talks\n",
    "ted_dataset.iloc[idx_trend_ted]\n"
   ]
  },
  {
   "cell_type": "markdown",
   "metadata": {},
   "source": [
    "5. Finding TED talks based on tags(like climate)\n"
   ]
  },
  {
   "cell_type": "code",
   "execution_count": 112,
   "metadata": {},
   "outputs": [
    {
     "data": {
      "text/html": [
       "<div>\n",
       "<style scoped>\n",
       "    .dataframe tbody tr th:only-of-type {\n",
       "        vertical-align: middle;\n",
       "    }\n",
       "\n",
       "    .dataframe tbody tr th {\n",
       "        vertical-align: top;\n",
       "    }\n",
       "\n",
       "    .dataframe thead th {\n",
       "        text-align: right;\n",
       "    }\n",
       "</style>\n",
       "<table border=\"1\" class=\"dataframe\">\n",
       "  <thead>\n",
       "    <tr style=\"text-align: right;\">\n",
       "      <th></th>\n",
       "      <th>title</th>\n",
       "      <th>author</th>\n",
       "      <th>date</th>\n",
       "      <th>views</th>\n",
       "      <th>likes</th>\n",
       "      <th>link</th>\n",
       "    </tr>\n",
       "  </thead>\n",
       "  <tbody>\n",
       "    <tr>\n",
       "      <th>232</th>\n",
       "      <td>A taste of Mexico's ancient chocolate-making t...</td>\n",
       "      <td>Germán Santillán</td>\n",
       "      <td>August 2021</td>\n",
       "      <td>1600000</td>\n",
       "      <td>48000</td>\n",
       "      <td>https://ted.com/talks/german_santillan_a_taste...</td>\n",
       "    </tr>\n",
       "    <tr>\n",
       "      <th>1166</th>\n",
       "      <td>What's really happening at the US-Mexico borde...</td>\n",
       "      <td>Erika Pinheiro</td>\n",
       "      <td>September 2019</td>\n",
       "      <td>2100000</td>\n",
       "      <td>64000</td>\n",
       "      <td>https://ted.com/talks/erika_pinheiro_what_s_re...</td>\n",
       "    </tr>\n",
       "    <tr>\n",
       "      <th>1234</th>\n",
       "      <td>The psychological impact of child separation a...</td>\n",
       "      <td>Luis H. Zayas</td>\n",
       "      <td>September 2019</td>\n",
       "      <td>2000000</td>\n",
       "      <td>62000</td>\n",
       "      <td>https://ted.com/talks/luis_h_zayas_the_psychol...</td>\n",
       "    </tr>\n",
       "    <tr>\n",
       "      <th>1246</th>\n",
       "      <td>A personal plea for humanity at the US-Mexico ...</td>\n",
       "      <td>Juan Enriquez</td>\n",
       "      <td>September 2019</td>\n",
       "      <td>2000000</td>\n",
       "      <td>60000</td>\n",
       "      <td>https://ted.com/talks/juan_enriquez_a_personal...</td>\n",
       "    </tr>\n",
       "    <tr>\n",
       "      <th>1606</th>\n",
       "      <td>An architect's subversive reimagining of the U...</td>\n",
       "      <td>Ronald Rael</td>\n",
       "      <td>December 2018</td>\n",
       "      <td>1600000</td>\n",
       "      <td>49000</td>\n",
       "      <td>https://ted.com/talks/ronald_rael_an_architect...</td>\n",
       "    </tr>\n",
       "    <tr>\n",
       "      <th>2136</th>\n",
       "      <td>The \"dead zone\" of the Gulf of Mexico</td>\n",
       "      <td>Nancy Rabalais</td>\n",
       "      <td>November 2017</td>\n",
       "      <td>1200000</td>\n",
       "      <td>38000</td>\n",
       "      <td>https://ted.com/talks/nancy_rabalais_the_dead_...</td>\n",
       "    </tr>\n",
       "  </tbody>\n",
       "</table>\n",
       "</div>"
      ],
      "text/plain": [
       "                                                  title            author  \\\n",
       "232   A taste of Mexico's ancient chocolate-making t...  Germán Santillán   \n",
       "1166  What's really happening at the US-Mexico borde...    Erika Pinheiro   \n",
       "1234  The psychological impact of child separation a...     Luis H. Zayas   \n",
       "1246  A personal plea for humanity at the US-Mexico ...     Juan Enriquez   \n",
       "1606  An architect's subversive reimagining of the U...       Ronald Rael   \n",
       "2136              The \"dead zone\" of the Gulf of Mexico    Nancy Rabalais   \n",
       "\n",
       "                date    views  likes  \\\n",
       "232      August 2021  1600000  48000   \n",
       "1166  September 2019  2100000  64000   \n",
       "1234  September 2019  2000000  62000   \n",
       "1246  September 2019  2000000  60000   \n",
       "1606   December 2018  1600000  49000   \n",
       "2136   November 2017  1200000  38000   \n",
       "\n",
       "                                                   link  \n",
       "232   https://ted.com/talks/german_santillan_a_taste...  \n",
       "1166  https://ted.com/talks/erika_pinheiro_what_s_re...  \n",
       "1234  https://ted.com/talks/luis_h_zayas_the_psychol...  \n",
       "1246  https://ted.com/talks/juan_enriquez_a_personal...  \n",
       "1606  https://ted.com/talks/ronald_rael_an_architect...  \n",
       "2136  https://ted.com/talks/nancy_rabalais_the_dead_...  "
      ]
     },
     "execution_count": 112,
     "metadata": {},
     "output_type": "execute_result"
    }
   ],
   "source": [
    "# .loc => Localiza algo dentro de un dataset\n",
    "# str.contains(\"How\", case=False) => Busca un string \"algo\" en el data set\n",
    "# argument case, false is indiferent to mayus\n",
    "word = \"Mexico\"\n",
    "ted_dataset.loc[ted_dataset[\"title\"].str.contains(word, case=False)]\n"
   ]
  },
  {
   "cell_type": "markdown",
   "metadata": {},
   "source": [
    "6. Finding the most popular TED talks Speaker (in terms of number of views)"
   ]
  },
  {
   "cell_type": "code",
   "execution_count": null,
   "metadata": {},
   "outputs": [],
   "source": []
  }
 ],
 "metadata": {
  "interpreter": {
   "hash": "52f6782f20dead15b92d647d9c35b61f55c82767db2c29ab39bb620616ef09b5"
  },
  "kernelspec": {
   "display_name": "Python 3.8.5 ('base')",
   "language": "python",
   "name": "python3"
  },
  "language_info": {
   "codemirror_mode": {
    "name": "ipython",
    "version": 3
   },
   "file_extension": ".py",
   "mimetype": "text/x-python",
   "name": "python",
   "nbconvert_exporter": "python",
   "pygments_lexer": "ipython3",
   "version": "3.8.5"
  },
  "orig_nbformat": 4
 },
 "nbformat": 4,
 "nbformat_minor": 2
}
