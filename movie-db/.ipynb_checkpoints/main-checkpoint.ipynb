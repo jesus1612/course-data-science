{
 "cells": [
  {
   "cell_type": "markdown",
   "metadata": {
    "collapsed": false
   },
   "source": [
    "· Encontrar cual es la serie más exitosa entre los adolescentes del género femenino, mayores a 16 años, en México, para promocionar una serie no animada."
   ]
  }
 ],
 "metadata": {
  "language_info": {
   "name": "python"
  },
  "name": "main.ipynb"
 },
 "nbformat": 4,
 "nbformat_minor": 2
}
