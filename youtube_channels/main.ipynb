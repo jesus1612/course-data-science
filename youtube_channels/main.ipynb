{
 "cells": [
  {
   "cell_type": "markdown",
   "metadata": {},
   "source": [
    "Cuál es el canal más exitoso de toda la historia de Youtube"
   ]
  },
  {
   "cell_type": "markdown",
   "metadata": {},
   "source": [
    "Leemos nuestra base de datos"
   ]
  },
  {
   "cell_type": "code",
   "execution_count": 2,
   "metadata": {},
   "outputs": [],
   "source": [
    "import pandas as pd"
   ]
  },
  {
   "cell_type": "code",
   "execution_count": 19,
   "metadata": {},
   "outputs": [
    {
     "data": {
      "text/html": [
       "<div>\n",
       "<style scoped>\n",
       "    .dataframe tbody tr th:only-of-type {\n",
       "        vertical-align: middle;\n",
       "    }\n",
       "\n",
       "    .dataframe tbody tr th {\n",
       "        vertical-align: top;\n",
       "    }\n",
       "\n",
       "    .dataframe thead th {\n",
       "        text-align: right;\n",
       "    }\n",
       "</style>\n",
       "<table border=\"1\" class=\"dataframe\">\n",
       "  <thead>\n",
       "    <tr style=\"text-align: right;\">\n",
       "      <th></th>\n",
       "      <th>rank</th>\n",
       "      <th>youtuber</th>\n",
       "      <th>subscribers</th>\n",
       "      <th>video views</th>\n",
       "      <th>video count</th>\n",
       "      <th>category</th>\n",
       "      <th>started</th>\n",
       "    </tr>\n",
       "  </thead>\n",
       "  <tbody>\n",
       "    <tr>\n",
       "      <th>0</th>\n",
       "      <td>1</td>\n",
       "      <td>T-Series</td>\n",
       "      <td>213000000</td>\n",
       "      <td>188,073,919,029</td>\n",
       "      <td>16708.0</td>\n",
       "      <td>Music</td>\n",
       "      <td>2006</td>\n",
       "    </tr>\n",
       "    <tr>\n",
       "      <th>1</th>\n",
       "      <td>2</td>\n",
       "      <td>YouTube Movies</td>\n",
       "      <td>150000000</td>\n",
       "      <td>167,122,746,349</td>\n",
       "      <td>NaN</td>\n",
       "      <td>Film &amp; Animation</td>\n",
       "      <td>2015</td>\n",
       "    </tr>\n",
       "    <tr>\n",
       "      <th>2</th>\n",
       "      <td>3</td>\n",
       "      <td>Cocomelon - Nursery Rhymes</td>\n",
       "      <td>133000000</td>\n",
       "      <td>126,822,520,940</td>\n",
       "      <td>751.0</td>\n",
       "      <td>Education</td>\n",
       "      <td>2006</td>\n",
       "    </tr>\n",
       "    <tr>\n",
       "      <th>3</th>\n",
       "      <td>4</td>\n",
       "      <td>SET India</td>\n",
       "      <td>131000000</td>\n",
       "      <td>101,541,977,714</td>\n",
       "      <td>78334.0</td>\n",
       "      <td>Shows</td>\n",
       "      <td>2006</td>\n",
       "    </tr>\n",
       "    <tr>\n",
       "      <th>4</th>\n",
       "      <td>5</td>\n",
       "      <td>Music</td>\n",
       "      <td>116000000</td>\n",
       "      <td>78,437,871,689</td>\n",
       "      <td>NaN</td>\n",
       "      <td>Music</td>\n",
       "      <td>2013</td>\n",
       "    </tr>\n",
       "  </tbody>\n",
       "</table>\n",
       "</div>"
      ],
      "text/plain": [
       "   rank                      youtuber  subscribers      video views   \\\n",
       "0      1                    T-Series      213000000  188,073,919,029   \n",
       "1      2              YouTube Movies      150000000  167,122,746,349   \n",
       "2      3  Cocomelon - Nursery Rhymes      133000000  126,822,520,940   \n",
       "3      4                   SET India      131000000  101,541,977,714   \n",
       "4      5                       Music      116000000   78,437,871,689   \n",
       "\n",
       "   video count           category   started   \n",
       "0       16708.0             Music       2006  \n",
       "1           NaN  Film & Animation       2015  \n",
       "2         751.0         Education       2006  \n",
       "3       78334.0             Shows       2006  \n",
       "4           NaN             Music       2013  "
      ]
     },
     "execution_count": 19,
     "metadata": {},
     "output_type": "execute_result"
    }
   ],
   "source": [
    "youtube_channels_dataset = pd.read_csv(\"./youtube_channels_data.csv\",skipinitialspace=True)\n",
    "\n",
    "youtube_channels_dataset.head()"
   ]
  },
  {
   "cell_type": "markdown",
   "metadata": {},
   "source": []
  },
  {
   "cell_type": "markdown",
   "metadata": {},
   "source": [
    "Añadiremos una columna con los años que lleva activo el canal para calcular su crecimiento anual"
   ]
  },
  {
   "cell_type": "code",
   "execution_count": 88,
   "metadata": {},
   "outputs": [],
   "source": [
    "# renombramos las cabeceras para eliminar espacios\n",
    "youtube_channels_dataset.rename(columns = {\n",
    "  'rank ':'rank',\n",
    "  'subscribers ':'subscribers',\n",
    "  'video views ': 'video_views',\n",
    "  'video count ': 'video_count',\n",
    "  'category ': 'category',\n",
    "  'started ': 'started'\n",
    "}, inplace = True)\n"
   ]
  },
  {
   "cell_type": "code",
   "execution_count": 89,
   "metadata": {},
   "outputs": [],
   "source": [
    "# IMPORTANTE, las cabeceras tienen espacios al final\n",
    "youtube_channels_started_dataset = youtube_channels_dataset[\"started\"]"
   ]
  },
  {
   "cell_type": "code",
   "execution_count": null,
   "metadata": {},
   "outputs": [],
   "source": [
    "youtube_time_active = []\n",
    "for date in youtube_channels_started_dataset:\n",
    "  youtube_time_active.append(2022 - int(date))\n",
    "\n",
    "youtube_channels_dataset.insert(5, \"time_active\", youtube_time_active)"
   ]
  },
  {
   "cell_type": "markdown",
   "metadata": {},
   "source": [
    "Añadiremos otra celda para calcular su crecimiento anual"
   ]
  },
  {
   "cell_type": "markdown",
   "metadata": {},
   "source": []
  },
  {
   "cell_type": "code",
   "execution_count": 91,
   "metadata": {},
   "outputs": [
    {
     "data": {
      "text/html": [
       "<div>\n",
       "<style scoped>\n",
       "    .dataframe tbody tr th:only-of-type {\n",
       "        vertical-align: middle;\n",
       "    }\n",
       "\n",
       "    .dataframe tbody tr th {\n",
       "        vertical-align: top;\n",
       "    }\n",
       "\n",
       "    .dataframe thead th {\n",
       "        text-align: right;\n",
       "    }\n",
       "</style>\n",
       "<table border=\"1\" class=\"dataframe\">\n",
       "  <thead>\n",
       "    <tr style=\"text-align: right;\">\n",
       "      <th></th>\n",
       "      <th>subscribers</th>\n",
       "      <th>time_active</th>\n",
       "      <th>video_views</th>\n",
       "    </tr>\n",
       "  </thead>\n",
       "  <tbody>\n",
       "    <tr>\n",
       "      <th>1</th>\n",
       "      <td>150000000</td>\n",
       "      <td>7</td>\n",
       "      <td>167,122,746,349</td>\n",
       "    </tr>\n",
       "    <tr>\n",
       "      <th>12</th>\n",
       "      <td>80900000</td>\n",
       "      <td>4</td>\n",
       "      <td>62,444,514,631</td>\n",
       "    </tr>\n",
       "    <tr>\n",
       "      <th>9</th>\n",
       "      <td>91000000</td>\n",
       "      <td>6</td>\n",
       "      <td>74,204,846,514</td>\n",
       "    </tr>\n",
       "    <tr>\n",
       "      <th>7</th>\n",
       "      <td>93800000</td>\n",
       "      <td>7</td>\n",
       "      <td>73,296,417,664</td>\n",
       "    </tr>\n",
       "    <tr>\n",
       "      <th>0</th>\n",
       "      <td>213000000</td>\n",
       "      <td>16</td>\n",
       "      <td>188,073,919,029</td>\n",
       "    </tr>\n",
       "    <tr>\n",
       "      <th>4</th>\n",
       "      <td>116000000</td>\n",
       "      <td>9</td>\n",
       "      <td>78,437,871,689</td>\n",
       "    </tr>\n",
       "    <tr>\n",
       "      <th>13</th>\n",
       "      <td>76300000</td>\n",
       "      <td>6</td>\n",
       "      <td>23,174,639,387</td>\n",
       "    </tr>\n",
       "    <tr>\n",
       "      <th>15</th>\n",
       "      <td>73600000</td>\n",
       "      <td>6</td>\n",
       "      <td>23,351,994,944</td>\n",
       "    </tr>\n",
       "    <tr>\n",
       "      <th>11</th>\n",
       "      <td>83300000</td>\n",
       "      <td>8</td>\n",
       "      <td>46,291,230,294</td>\n",
       "    </tr>\n",
       "    <tr>\n",
       "      <th>8</th>\n",
       "      <td>92100000</td>\n",
       "      <td>9</td>\n",
       "      <td>71,692,471,446</td>\n",
       "    </tr>\n",
       "    <tr>\n",
       "      <th>6</th>\n",
       "      <td>93900000</td>\n",
       "      <td>10</td>\n",
       "      <td>15,417,304,461</td>\n",
       "    </tr>\n",
       "    <tr>\n",
       "      <th>5</th>\n",
       "      <td>111000000</td>\n",
       "      <td>12</td>\n",
       "      <td>28,260,779,633</td>\n",
       "    </tr>\n",
       "    <tr>\n",
       "      <th>49</th>\n",
       "      <td>43200000</td>\n",
       "      <td>5</td>\n",
       "      <td>9,762,131,005</td>\n",
       "    </tr>\n",
       "    <tr>\n",
       "      <th>14</th>\n",
       "      <td>75100000</td>\n",
       "      <td>9</td>\n",
       "      <td>22,156,639,371</td>\n",
       "    </tr>\n",
       "    <tr>\n",
       "      <th>2</th>\n",
       "      <td>133000000</td>\n",
       "      <td>16</td>\n",
       "      <td>126,822,520,940</td>\n",
       "    </tr>\n",
       "    <tr>\n",
       "      <th>55</th>\n",
       "      <td>41000000</td>\n",
       "      <td>5</td>\n",
       "      <td>18,474,229,002</td>\n",
       "    </tr>\n",
       "    <tr>\n",
       "      <th>3</th>\n",
       "      <td>131000000</td>\n",
       "      <td>16</td>\n",
       "      <td>101,541,977,714</td>\n",
       "    </tr>\n",
       "    <tr>\n",
       "      <th>28</th>\n",
       "      <td>55100000</td>\n",
       "      <td>7</td>\n",
       "      <td>12,967,930,243</td>\n",
       "    </tr>\n",
       "    <tr>\n",
       "      <th>84</th>\n",
       "      <td>34700000</td>\n",
       "      <td>5</td>\n",
       "      <td>19,676,656,583</td>\n",
       "    </tr>\n",
       "  </tbody>\n",
       "</table>\n",
       "</div>"
      ],
      "text/plain": [
       "    subscribers  time_active      video_views\n",
       "1     150000000            7  167,122,746,349\n",
       "12     80900000            4   62,444,514,631\n",
       "9      91000000            6   74,204,846,514\n",
       "7      93800000            7   73,296,417,664\n",
       "0     213000000           16  188,073,919,029\n",
       "4     116000000            9   78,437,871,689\n",
       "13     76300000            6   23,174,639,387\n",
       "15     73600000            6   23,351,994,944\n",
       "11     83300000            8   46,291,230,294\n",
       "8      92100000            9   71,692,471,446\n",
       "6      93900000           10   15,417,304,461\n",
       "5     111000000           12   28,260,779,633\n",
       "49     43200000            5    9,762,131,005\n",
       "14     75100000            9   22,156,639,371\n",
       "2     133000000           16  126,822,520,940\n",
       "55     41000000            5   18,474,229,002\n",
       "3     131000000           16  101,541,977,714\n",
       "28     55100000            7   12,967,930,243\n",
       "84     34700000            5   19,676,656,583"
      ]
     },
     "execution_count": 91,
     "metadata": {},
     "output_type": "execute_result"
    }
   ],
   "source": [
    "youtube_channels_factors = youtube_channels_dataset.filter([\"subscribers\", \"time_active\", \"video_views\"])\n",
    "youtube_channels_factors"
   ]
  },
  {
   "cell_type": "code",
   "execution_count": null,
   "metadata": {},
   "outputs": [],
   "source": [
    "youtube_channels_annual_growth = []\n",
    "\n",
    "for date in youtube_channels_factors.index:\n",
    "  youtube_channels_annual_growth.append(youtube_channels_factors[\"subscribers\"][date] / youtube_channels_factors[\"time_active\"][date])\n",
    "\n",
    "youtube_channels_dataset.insert(7, \"subscribers/time_activate\", youtube_channels_annual_growth)"
   ]
  },
  {
   "cell_type": "code",
   "execution_count": 100,
   "metadata": {},
   "outputs": [
    {
     "data": {
      "text/plain": [
       "<AxesSubplot:xlabel='youtuber'>"
      ]
     },
     "execution_count": 100,
     "metadata": {},
     "output_type": "execute_result"
    },
    {
     "data": {
      "image/png": "[encoded data removed]",
      "text/plain": [
       "<Figure size 432x288 with 1 Axes>"
      ]
     },
     "metadata": {
      "needs_background": "light"
     },
     "output_type": "display_data"
    }
   ],
   "source": [
    "youtube_channels_dataset.sort_values(by=\"subscribers/time_activate\", ascending=False)[0:19].plot(kind=\"bar\", x=\"youtuber\", y=\"subscribers/time_activate\")"
   ]
  },
  {
   "cell_type": "markdown",
   "metadata": {},
   "source": [
    "Canales con el mayor numero de suscriptores"
   ]
  },
  {
   "cell_type": "code",
   "execution_count": 103,
   "metadata": {},
   "outputs": [
    {
     "data": {
      "text/plain": [
       "<AxesSubplot:xlabel='youtuber'>"
      ]
     },
     "execution_count": 103,
     "metadata": {},
     "output_type": "execute_result"
    },
    {
     "data": {
      "image/png": "[encoded data removed]",
      "text/plain": [
       "<Figure size 432x288 with 1 Axes>"
      ]
     },
     "metadata": {
      "needs_background": "light"
     },
     "output_type": "display_data"
    }
   ],
   "source": [
    "youtube_channels_dataset.sort_values(by=\"subscribers\", ascending=False)[0:19].plot(kind=\"bar\", x=\"youtuber\", y=\"subscribers\")"
   ]
  },
  {
   "cell_type": "code",
   "execution_count": null,
   "metadata": {},
   "outputs": [],
   "source": []
  }
 ],
 "metadata": {
  "interpreter": {
   "hash": "52f6782f20dead15b92d647d9c35b61f55c82767db2c29ab39bb620616ef09b5"
  },
  "kernelspec": {
   "display_name": "Python 3.8.5 ('base')",
   "language": "python",
   "name": "python3"
  },
  "language_info": {
   "codemirror_mode": {
    "name": "ipython",
    "version": 3
   },
   "file_extension": ".py",
   "mimetype": "text/x-python",
   "name": "python",
   "nbconvert_exporter": "python",
   "pygments_lexer": "ipython3",
   "version": "3.8.5"
  },
  "orig_nbformat": 4
 },
 "nbformat": 4,
 "nbformat_minor": 2
}
